{
 "cells": [
  {
   "cell_type": "code",
   "execution_count": 1,
   "metadata": {},
   "outputs": [
    {
     "name": "stdout",
     "output_type": "stream",
     "text": [
      "     1  47\n",
      "0    2  47\n",
      "1    3  47\n",
      "2    4  47\n",
      "3    5  47\n",
      "4    6  47\n",
      "5    7  47\n",
      "6    8  47\n",
      "7    9  47\n",
      "8   10  47\n",
      "9   11  47\n",
      "10  12  47\n",
      "11  13  47\n",
      "12  14  47\n",
      "13  15  47\n",
      "14  16  47\n",
      "15  17  47\n",
      "16  18  47\n",
      "17  19  47\n",
      "18  20  47\n",
      "19  21  47\n",
      "20  22  47\n",
      "21  23  47\n",
      "22  24  47\n",
      "23  25  47\n",
      "24  26  47\n"
     ]
    }
   ],
   "source": [
    "import pandas as pd\n",
    "\n",
    "# Specify the file path\n",
    "file_path = \"prueba.csv\"\n",
    "\n",
    "# Read the CSV file\n",
    "data = pd.read_csv(file_path)\n",
    "\n",
    "# Print the data\n",
    "print(data)\n"
   ]
  }
 ],
 "metadata": {
  "kernelspec": {
   "display_name": "Python 3",
   "language": "python",
   "name": "python3"
  },
  "language_info": {
   "codemirror_mode": {
    "name": "ipython",
    "version": 3
   },
   "file_extension": ".py",
   "mimetype": "text/x-python",
   "name": "python",
   "nbconvert_exporter": "python",
   "pygments_lexer": "ipython3",
   "version": "3.11.0"
  }
 },
 "nbformat": 4,
 "nbformat_minor": 2
}
